{
 "cells": [
  {
   "cell_type": "markdown",
   "id": "2b68fc54-a771-476a-9d7b-71795615b7bc",
   "metadata": {},
   "source": [
    "# Степени на свобода \n",
    "\n",
    "Манипулационният робот UR5 има 6 степени на свобода"
   ]
  },
  {
   "cell_type": "code",
   "execution_count": 2,
   "id": "613cc044-9013-4e5c-816d-46b7e7905a6f",
   "metadata": {},
   "outputs": [
    {
     "name": "stdout",
     "output_type": "stream",
     "text": [
      "dof = 6\n"
     ]
    }
   ],
   "source": [
    "links = 6 + 1;\n",
    "joints = 6; \n",
    "sum_f_i = 6 * 1;\n",
    "dof = 6 * (links - 1 - joints) + sum_f_i"
   ]
  },
  {
   "cell_type": "markdown",
   "id": "11f4ac25-2899-4ef8-b543-888cb13b0bee",
   "metadata": {},
   "source": [
    "# Помощни функции\n",
    "\n",
    "get_skew_matrix(.) взема тримерен вектор v <br>\n",
    "и връща косо-симетричната матрица, породена от него"
   ]
  },
  {
   "cell_type": "code",
   "execution_count": 3,
   "id": "610f625a-f739-4b3b-a273-3023f0a1fb84",
   "metadata": {},
   "outputs": [],
   "source": [
    "function skew = get_skew_matrix(v)\n",
    "    skew = [     0 -v(3)  v(2)\n",
    "              v(3)     0 -v(1)\n",
    "             -v(2)  v(1)     0 ];\n",
    "end"
   ]
  },
  {
   "cell_type": "markdown",
   "id": "266e3cd9-0be4-4c3d-b853-5b4bbc98cbca",
   "metadata": {},
   "source": [
    "get_vector_from_skew(.) взема косо-симетрична матрица M <br>\n",
    "и връща вектора й"
   ]
  },
  {
   "cell_type": "code",
   "execution_count": 4,
   "id": "0780b55c-6b2d-4c49-84e0-a3eaa9450da4",
   "metadata": {},
   "outputs": [],
   "source": [
    "function v = get_vector_from_skew(M)\n",
    "    v = [M(3, 2), M(1, 3), M(2, 1)];\n",
    "end "
   ]
  },
  {
   "cell_type": "markdown",
   "id": "2ececdc5-76bd-44e7-ab19-ed99fa955d4a",
   "metadata": {},
   "source": [
    "### Формула на Родригес \n",
    "\n",
    "get_exponent(. ,.) взема единичен тримерен вектор w (ос, около която ще е ротацията) и ъгъл Theta (ъгъл на ротиране) <br>\n",
    "                   и връща ротационната матрица с експоненциални коодрдинати  "
   ]
  },
  {
   "cell_type": "code",
   "execution_count": 5,
   "id": "c7344fa4-54ea-47be-8cc4-df78a59bd80f",
   "metadata": {},
   "outputs": [],
   "source": [
    "function R = get_exponent(w, Theta)\n",
    "    skew_w = get_skew_matrix(w);\n",
    "    skew_square = skew_w * skew_w;\n",
    "    \n",
    "    R = eye(3) + sin(Theta) * skew_w + (1 - cos(Theta)) * skew_square;\n",
    "end"
   ]
  },
  {
   "cell_type": "markdown",
   "id": "70f1e747-c67a-4445-ad6f-70e2c003f063",
   "metadata": {},
   "source": [
    "### Алгоритъм за пресмятане на логаритъм на ротационна матрица\n",
    "\n",
    "get_axis_angle(.) взема ротационна матрица R <br>\n",
    "                  и връща оста на ротация (единичен тримерен вектор) и ъгълът на ротация, който е в интервала [0, pi]"
   ]
  },
  {
   "cell_type": "code",
   "execution_count": 6,
   "id": "6573d0f7-4ae4-453f-b795-61961ddb93be",
   "metadata": {},
   "outputs": [],
   "source": [
    "function [w, Theta] = get_axis_angle(R)\n",
    "    if isdiag(R)\n",
    "        w = NaN;\n",
    "        Theta = 0; \n",
    "    elseif abs(trace(R) + 1) < 1e-4\n",
    "        Theta = pi; \n",
    "        if R(3, 3) ~= -1 \n",
    "            w = 1 / (2 * sqrt(1 + R(3, 3))) * [R(1, 3); R(2, 3); 1 + R(3, 3)];\n",
    "        elseif R(2, 2) ~= -1\n",
    "            w = 1 / (2 * sqrt(1 + R(2, 2))) * [R(1, 2); 1 + R(2, 2); R(3, 2)];\n",
    "        else \n",
    "            w = 1 / (2 * sqrt(1 + R(1, 1))) * [1 + R(1, 1); R(2, 1); R(3, 1)];\n",
    "        end\n",
    "    else \n",
    "        Theta = acos((trace(R) - 1) / 2);\n",
    "        w = get_vector_from_skew(1 / (2 * sin(Theta)) * (R - R'));\n",
    "    end \n",
    "end"
   ]
  },
  {
   "cell_type": "markdown",
   "id": "1d722827-6d8c-455d-b1d9-e1cd6a32cde8",
   "metadata": {},
   "source": [
    "### Представяне на движение чрез експоненциялни координати\n",
    "\n",
    "get_transformation_matrix(., .) взема винтово движение и изминато разстояние <br>\n",
    "и връща матрицата на трансформацията"
   ]
  },
  {
   "cell_type": "code",
   "execution_count": 7,
   "id": "ffc4e4a2-6398-4331-8391-e5c99aaa459f",
   "metadata": {},
   "outputs": [],
   "source": [
    "function T = get_transformation_matrix(twist, Theta)\n",
    "    w = twist(1:3);\n",
    "    v = twist(4:6);\n",
    "    \n",
    "    if abs(norm(w) - 1) < 1e-4\n",
    "        skew_w = get_skew_matrix(w);\n",
    "        skew_square = skew_w * skew_w;  \n",
    "        \n",
    "        R = get_exponent(w, Theta);\n",
    "        p = ((eye(3) * Theta) ...\n",
    "             + ((1 - cos(Theta)) * skew_w) ...\n",
    "             + ((Theta - sin(Theta)) * skew_square)) ...\n",
    "            * v;\n",
    "    else \n",
    "        R = eye(3);\n",
    "        p = v * Theta;\n",
    "    end\n",
    "    \n",
    "    T = [  R   p \n",
    "         0 0 0 1 ];\n",
    "end"
   ]
  },
  {
   "cell_type": "markdown",
   "id": "768b9771-a982-4adb-b5f9-c4fdee092acd",
   "metadata": {},
   "source": [
    "get_rotation_matrix(.) взема трансформационна матрица <br>\n",
    "и връща ротационната й матрица"
   ]
  },
  {
   "cell_type": "code",
   "execution_count": 8,
   "id": "e8393f3f-4f83-4919-ac04-aa206d593e04",
   "metadata": {},
   "outputs": [],
   "source": [
    "function R = get_rotation_matrix(T)\n",
    "    R = T(1:3, 1:3);\n",
    "end"
   ]
  },
  {
   "cell_type": "markdown",
   "id": "6a3731cc-9595-452f-ae69-4349922299a9",
   "metadata": {},
   "source": [
    "get_translation_vector(.) взема трансформационна матрица <br>\n",
    "и връща вектора й на транслация"
   ]
  },
  {
   "cell_type": "code",
   "execution_count": 9,
   "id": "46e833ac-c07c-4f40-9a03-cf94de0d4f75",
   "metadata": {},
   "outputs": [],
   "source": [
    "function p = get_translation_vector(T)\n",
    "    p = T(1:3, 4);\n",
    "end"
   ]
  },
  {
   "cell_type": "markdown",
   "id": "9cdd169e-a137-4c68-9f16-6b9615863425",
   "metadata": {},
   "source": [
    "# Алгоритъм за решаване на правата задача на кинематиката спрямо фиксирана пространствена отправна система {s}\n",
    "\n",
    "solve_forward_S(., ., .) взема [S_i | S_i е винтовото движение в става i], нулевата матрица и списък от изминати разстояния <br>\n",
    "                         и връща финалното положение на хващача \n",
    "\n",
    "Матрицата М описва положението на отправната система на хващача, {b}, спрямо отправната система в основата на робота, {s}. Вижда се, че посоката по у се е запазила, а х- и z-осите, съответно, са в противоположни посоки. Вижда се и векторът на транслация на {b} спрямо {s}; положението по z се запазва, по x транслацията е, колкото е радиусът на робота, а отместването по оста у беше съобразено по данни от симулатора и от DH параметрите."
   ]
  },
  {
   "cell_type": "code",
   "execution_count": 10,
   "id": "35831b6f-5e56-4605-9ff4-fefc6ddb980c",
   "metadata": {},
   "outputs": [],
   "source": [
    "# orientation of plane taken from the gripper coord system; translation was manually calculated \n",
    "M_sb = [ -1 0  0 0.817\n",
    "          0 1  0 0.270\n",
    "          0 0 -1 1.063\n",
    "          0 0  0     1 ];\n",
    "       \n",
    "S_1 = [0, 0, 1,      0,      0,     0];  # (    0,      0,     0) x (0, 0, 1)\n",
    "S_2 = [0, 1, 0, -1.163,      0,     0];  # (    0, 0.1317, 0.163) x (0, 1, 0)\n",
    "S_3 = [0, 1, 0, -1.163,      0, 0.425];  # (0.425, 0.1317, 0.163) x (0, 1, 0)\n",
    "S_4 = [0, 1, 0, -1.163,      0, 0.817];  # (0.817, 0.1317, 0.163) x (0, 1, 0)\n",
    "S_5 = [0, 0, 1,  0.132, -0.817,     0];  # (0.817, 0.1317, 0.063) x (0, 0, 1)\n",
    "S_6 = [0, 1, 0, -1.063,      0, 0.817];  # (0.817, 0.2307, 0.063) x (0, 1, 0)\n",
    "\n",
    "S = [S_1' S_2' S_3' S_4' S_5' S_6'];\n",
    "\n",
    "#Theta = [Theta_0, Theta_1, Theta_2, Theta_3, Theta_4, Theta_5];\n",
    "\n",
    "function T = solve_forward_S(S, M, Theta)\n",
    "    n = length(Theta);\n",
    "    T = eye(4);\n",
    "    \n",
    "    for i = 1:n\n",
    "        T = T * get_transformation_matrix(S(:, i), Theta(i));\n",
    "    end\n",
    "    \n",
    "    T = T * M;\n",
    "end"
   ]
  },
  {
   "cell_type": "markdown",
   "id": "18836858-00fa-4391-a498-0f73bf4d488e",
   "metadata": {},
   "source": [
    "# Алгоритъм за решаване на правата задача на кинематиката спрямо отправна система {b}\n",
    "\n",
    "solve_forward_B(., ., .) взема [В_i | В_i е винтовото движение в става i], нулевата матрица и списък от изминати разстояния <br>\n",
    "                         и връща финалното положение на хващача "
   ]
  },
  {
   "cell_type": "code",
   "execution_count": 11,
   "id": "033341dd-52af-4811-911d-5894b6f23998",
   "metadata": {},
   "outputs": [],
   "source": [
    "#M_bs = [ -1 0  0  0.817\n",
    "#         0 1  0 -0.270\n",
    "#         0 0 -1  0.063\n",
    "#         0 0  0      1 ];  \n",
    "\n",
    "# B_0 = [0, 0, 1, -0.270, -0.817,     0];\n",
    "# B_1 = [0, 1, 0,  0.100,      0, 0.817];\n",
    "# B_2 = [0, 1, 0,  0.100,      0, 0.392];\n",
    "# B_3 = [0, 1, 0,  0.100,      0,     0];\n",
    "# B_4 = [0, 0, 1, -0.136,      0,     0];\n",
    "# B_5 = [0, 1, 0,      0,      0,     0];\n",
    "\n",
    "# B = [B_0' B_1' B_2' B_3' B_4' B_5'];\n",
    "\n",
    "function T = solve_forward_B(B, M, Theta)\n",
    "    n = length(Theta);\n",
    "    T = M;\n",
    "    \n",
    "    for i = 1:n\n",
    "        T = T * get_transformation_matrix(B(:, 1), Theta(i));\n",
    "    end\n",
    "    \n",
    "end"
   ]
  },
  {
   "cell_type": "markdown",
   "id": "adc960f9-2294-4519-8dde-40d515827c0f",
   "metadata": {},
   "source": [
    "# Алгоритъм за решаване на обратната задача на кинематиката"
   ]
  },
  {
   "cell_type": "code",
   "execution_count": 12,
   "id": "309e9383-b26e-4e9a-9e43-e8ee3e3da1c0",
   "metadata": {},
   "outputs": [],
   "source": [
    "function Theta = solve_inverse(x, y, z, angle)\n",
    "    Theta = zeros(6, 8);\n",
    "    \n",
    "    d_1 = 0.1625;\n",
    "    d_5 = 0.0997;\n",
    "    d_6 = 0.0996;\n",
    "    d_4 = 0.1333;\n",
    "    \n",
    "    a_2 = -0.425;\n",
    "    a_3 = -0.392;\n",
    "    \n",
    "    M_sb = [ -1 0  0 0.817\n",
    "              0 1  0 0.270\n",
    "              0 0 -1 1.063\n",
    "              0 0  0     1 ];\n",
    "    \n",
    "    P_06 = [x; y; z];\n",
    "    \n",
    "    R = get_exponent([0, 0, 1], angle);\n",
    "    \n",
    "    # finding Theta(1)\n",
    "    T_06 = [  R   P_06\n",
    "            0 0 0   1 ]\n",
    "    \n",
    "    P_05 = T_06 * [0; 0; d_6; 1] - [0; 0; 0; 1]\n",
    "    \n",
    "    fi_1 = atan2(P_05(2), P_05(1));\n",
    "    fi_2 = acos(d_4 / sqrt(P_05(1)^2 + P_05(2)^2)); \n",
    "    \n",
    "    Theta(1, 1:4) = fi_1 + fi_2 + pi/2;\n",
    "    Theta(1, 5:8) = fi_1 - fi_2 + pi/2;\n",
    "    \n",
    "    for i = 1:8\n",
    "        Theta(1, i) = real(Theta(1, i));\n",
    "        #if Theta(1, i) >= pi\n",
    "        #    Theta(1, i) = Theta(1, i) - 2*pi;\n",
    "        #end\n",
    "    end\n",
    "    \n",
    "    # finding Theta(5)\n",
    "    fn = [1, 5]; # indices 1:4 (incl) and indices 5:8 (incl) are for wrist flipped/not-flipped (up/down) accordingly \n",
    "    \n",
    "    for i = 1:2\n",
    "        coeff = fn(i);\n",
    "        \n",
    "        nominator = P_06(1) * sin(Theta(1, coeff)) - P_06(2) * cos(Theta(1, coeff)) - d_4;\n",
    "        \n",
    "        if (nominator < d_6 || abs(nominator - d_6 <= 1e-4)) # nominator / d_6 <= 1 \n",
    "            Theta(5, coeff:coeff+1) = acos(nominator / d_6);\n",
    "            Theta(5, coeff+2:coeff+3) = -acos(nominator / d_6);\n",
    "        else \n",
    "            Theta(5, coeff:coeff+3) = 0;\n",
    "        end\n",
    "    end\n",
    "    \n",
    "    for i = 1:8\n",
    "        Theta(5, i) = real(Theta(5, i));\n",
    "        #if Theta(5, i) >= pi\n",
    "        #    Theta(5, i) = Theta(5, i) - 2*pi;\n",
    "        #end\n",
    "    end\n",
    "        \n",
    "    # finding Theta(6)\n",
    "    lr = [1, 3, 5, 7];\n",
    "    \n",
    "    for i = 1:4\n",
    "        coeff = lr(i);\n",
    "        \n",
    "        sin_5 = sin(Theta(5, coeff));\n",
    "        sin_1 = sin(Theta(1, coeff));\n",
    "        cos_1 = cos(Theta(1, coeff));\n",
    "        \n",
    "        if abs(sin_5) > 1e-4\n",
    "            Theta(6, coeff:coeff+1) = atan2((-T_06(2, 1) * sin_1 + T_06(2, 2) * cos_1) / sin_5, (T_06(1, 1) * sin_1 - T_06(1, 2) * cos_1) / sin_5);\n",
    "        else \n",
    "            Theta(6, coeff:coeff+1) = 0;\n",
    "        end\n",
    "    end\n",
    "    \n",
    "    for i = 1:8\n",
    "        Theta(6, i) = real(Theta(6, i));\n",
    "        #if Theta(6, i) >= pi\n",
    "        #    Theta(6, i) = Theta(6, i) - 2*pi;\n",
    "        #end\n",
    "    end\n",
    "    \n",
    "    # finding Theta(3)\n",
    "    ud = [1, 3, 5, 7];\n",
    "    \n",
    "    for i = 1:4\n",
    "        coeff = ud(i);\n",
    "        \n",
    "        T_01 = solve_forward_S([0; 0; 1;      0;      0;     0], M_sb, Theta(1, coeff));\n",
    "        T_45 = solve_forward_S([0; 0; 1;  0.132; -0.817;     0], M_sb, Theta(5, coeff));\n",
    "        T_56 = solve_forward_S([0; 1; 0; -1.063;      0; 0.817], M_sb, Theta(6, coeff));\n",
    "        T_14 = T_01^-1 * T_06 * T_56^-1 * T_45^-1;\n",
    "        \n",
    "        P_14_xz_mod = sqrt(T_14(1, 4)^2 + T_14(3, 4)^2);\n",
    "        \n",
    "        nominator = P_14_xz_mod^2 - a_2^2 - a_3^3;\n",
    "        arg = nominator / (2 * a_2 * a_3);\n",
    "        \n",
    "        if (abs(arg + 1) >= 1e-4 && abs(arg - 1) <= 1e-4)\n",
    "            Theta(3, coeff) = acos(arg);\n",
    "            Theta(3, coeff+1) = -acos(arg);\n",
    "        else \n",
    "            Theta(3, coeff:coeff+1) = 0;\n",
    "        end\n",
    "    end\n",
    "    \n",
    "    for i = 1:8\n",
    "        Theta(3, i) = real(Theta(3, i));\n",
    "        #if Theta(3, i) >= pi\n",
    "        #    Theta(3, i) = Theta(3, i) - 2*pi;\n",
    "        #end\n",
    "    end\n",
    "        \n",
    "    # finding Theta(2) and Theta(4)\n",
    "    for i = 1:8\n",
    "        T_01 = solve_forward_S([0; 0; 1;      0;      0;     0], M_sb, Theta(1, coeff));\n",
    "        T_45 = solve_forward_S([0; 0; 1;  0.132; -0.817;     0], M_sb, Theta(5, coeff));\n",
    "        T_56 = solve_forward_S([0; 1; 0; -1.063;      0; 0.817], M_sb, Theta(6, coeff));\n",
    "        T_14 = T_01^-1 * T_06 * T_56^-1 * T_45^-1;\n",
    "        \n",
    "        P_14_xz_norm = sqrt(T_14(1, 4)^2 + T_14(3, 4)^2);\n",
    "        \n",
    "        psi_1 = atan2(-T_14(3, 4), -T_14(1, 4));\n",
    "        psi_2 = asin((-a_3 * sin(Theta(3, i))) / P_14_xz_norm);\n",
    "        \n",
    "        #Theta(2)\n",
    "        Theta(2, i) = psi_1 - psi_2;\n",
    "        \n",
    "        #Theta(4)\n",
    "        T_12 = solve_forward_S([0; 1; 0; -1.163; 0;     0], M_sb, Theta(2, i));\n",
    "        T_23 = solve_forward_S([0; 1; 0; -1.163; 0; 0.425], M_sb, Theta(3, i));\n",
    "\t    T_34 = T_23^-1 * T_12^-1 * T_14;\n",
    "        \n",
    "\t    Theta(4, i) = atan2(T_34(2, 1), T_34(1, 1));\n",
    "    end\n",
    "    \n",
    "    for i = 1:8\n",
    "        Theta(2, i) = real(Theta(2, i));\n",
    "        #if Theta(2, i) >= pi\n",
    "        #    Theta(2, i) = Theta(2, i) - 2*pi;\n",
    "        #end\n",
    "        \n",
    "        Theta(4, i) = real(Theta(4, i));\n",
    "        #if Theta(4, i) >= pi\n",
    "        #    Theta(4, i) = Theta(4, i) - 2*pi;\n",
    "        #end\n",
    "    end\n",
    "end"
   ]
  },
  {
   "cell_type": "code",
   "execution_count": 13,
   "id": "5182a8cf-27ac-4c29-8660-963723d97e11",
   "metadata": {},
   "outputs": [],
   "source": [
    "ball =  [  0.4,  0.8, 1.04991];\n",
    "crate = [-0.95, -0.5, 1];"
   ]
  },
  {
   "cell_type": "code",
   "execution_count": 14,
   "id": "7de1954e-d3bc-4ac3-8f34-d5da16c6ad34",
   "metadata": {},
   "outputs": [],
   "source": [
    "function err = get_err(desire, result)\n",
    "    x = result(1) - desire(1);\n",
    "    y = result(2) - desire(2);\n",
    "    z = result(3) - desire(3);\n",
    "    err = sqrt(x^2 + y^2 + z^2);\n",
    "end"
   ]
  },
  {
   "cell_type": "code",
   "execution_count": 16,
   "id": "57ac1f1d-cff1-455f-b641-cd2605aa259c",
   "metadata": {},
   "outputs": [
    {
     "name": "stdout",
     "output_type": "stream",
     "text": [
      "T_06 =\n",
      "\n",
      "   1.0000        0        0   1.0499\n",
      "        0   1.0000        0   0.4000\n",
      "        0        0   1.0000   0.8000\n",
      "        0        0        0   1.0000\n",
      "\n",
      "P_05 =\n",
      "\n",
      "   1.0499\n",
      "   0.4000\n",
      "   0.8996\n",
      "        0\n",
      "\n",
      "Theta_inverse =\n",
      "\n",
      "   3.3867   3.3867   3.3867   3.3867   0.4829   0.4829   0.4829   0.4829\n",
      "  -2.1102  -2.1102  -2.1102  -2.1102  -2.1102  -2.1102  -2.1102  -2.1102\n",
      "        0        0        0        0        0        0        0        0\n",
      "   1.3077   1.3077   1.3077   1.3077   1.3077   1.3077   1.3077   1.3077\n",
      "   1.5708   1.5708  -1.5708  -1.5708   1.5708   1.5708  -1.5708  -1.5708\n",
      "  -1.8159  -1.8159   1.3257   1.3257   1.0879   1.0879  -2.0537  -2.0537\n",
      "\n",
      "error: parse error:\n",
      "\n",
      "  syntax error\n",
      "\n",
      ">>>     if err <= 1е-1\n",
      "                   ^\n",
      "error: Theta_inverse(_,0+1i): subscripts must be real (forgot to initialize i or j?)\n",
      "error: 'frwrd' undefined near line 1, column 1\n",
      "error: 'frwrd' undefined near line 1, column 1\n",
      "error: parse error:\n",
      "\n",
      "  syntax error\n",
      "\n",
      ">>>     end\n",
      "          ^\n",
      "error: parse error:\n",
      "\n",
      "  syntax error\n",
      "\n",
      ">>> end\n",
      "      ^\n"
     ]
    }
   ],
   "source": [
    "Theta_inverse = solve_inverse(1.04991,  0.4, 0.8, 0)\n",
    "\n",
    "for i = 1:8\n",
    "    frwrd = solve_forward_S(S, M_sb, Theta_inverse(:, i));\n",
    "    err = get_err([0.4, 0.8, 1.04991], frwrd(:, 1:3))\n",
    "    if err <= 1е-1\n",
    "        Theta_inverse(:, i)'\n",
    "        frwrd\n",
    "        [w_frwrd, theta_frwrd] = get_axis_angle(get_rotation_matrix(frwrd))\n",
    "    end\n",
    "end"
   ]
  },
  {
   "cell_type": "code",
   "execution_count": null,
   "id": "be85e973-5cfe-43fd-a1c4-f4c0660b966d",
   "metadata": {},
   "outputs": [],
   "source": []
  }
 ],
 "metadata": {
  "kernelspec": {
   "display_name": "Octave",
   "language": "octave",
   "name": "octave"
  },
  "language_info": {
   "file_extension": ".m",
   "help_links": [
    {
     "text": "GNU Octave",
     "url": "https://www.gnu.org/software/octave/support.html"
    },
    {
     "text": "Octave Kernel",
     "url": "https://github.com/Calysto/octave_kernel"
    },
    {
     "text": "MetaKernel Magics",
     "url": "https://metakernel.readthedocs.io/en/latest/source/README.html"
    }
   ],
   "mimetype": "text/x-octave",
   "name": "octave",
   "version": "6.4.0"
  }
 },
 "nbformat": 4,
 "nbformat_minor": 5
}
